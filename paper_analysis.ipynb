{
 "cells": [
  {
   "cell_type": "code",
   "execution_count": null,
   "id": "35717489",
   "metadata": {},
   "outputs": [],
   "source": [
    "# importing necessary packages for data analysis.\n",
    "import numpy as np\n",
    "import sys\n",
    "sys.path.append(\"../../lhillber/brownian/src\")\n",
    "from time_series import CollectionTDMS as ctdms\n",
    "import matplotlib.pyplot as plt\n",
    "from scipy.optimize import curve_fit\n",
    "# data from 07/17 Sagnac/Sagnac_fire_19J is complete shit\n",
    "# we need to retake this data and make sure that the signal is being \n",
    "# taken correctly. For now, I'm using the data from 07/14 because it\n",
    "# is a better representation of what our data should look like.\n",
    "d = \"../data/20230801/Sagnac/iter_0.tdms\"\n",
    "laser = ctdms(d)\n",
    "micro = ctdms(d)\n",
    "laser.set_collection(\"X\")\n",
    "laser.apply(\"detrend\", mode = \"linear\", inplace = True)\n",
    "laser.apply(\"calibrate\", cal = -1, inplace = True)\n",
    "micro.set_collection(\"Y\")\n",
    "fig, ax = plt.subplots()\n",
    "\n",
    "shot = laser.collection[3]\n",
    "shot.plot(tmin = 4.2e-4, tmax = 4.7e-4, ax = ax)\n",
    "def friedlander(t, peak, tau):\n",
    "    return peak * np.exp((-t / tau)) * (1 - (t / tau))\n",
    "\n",
    "peak_index = np.where(shot.x == max(shot.x))[0][0]\n",
    "z_crossing = peak_index + np.where(np.diff(np.sign(shot.x[peak_index:])))[0][0]\n",
    "ax.scatter(shot.t[peak_index], shot.x[peak_index])\n",
    "ax.scatter(shot.t[z_crossing], shot.x[z_crossing])\n",
    "guess = np.array([shot.x[peak_index], shot.t[peak_index], shot.t[z_crossing]])\n",
    "popt, pcov = curve_fit(friedlander, shot.t[peak_index : z_crossing + 500], shot.x[peak_index : z_crossing + 500], maxfev = 100000)\n",
    "ax.plot(shot.t, friedlander(shot.t, *popt))\n",
    "print(guess)\n",
    "print(popt)\n",
    "ax.set_xlim([4.2e-4, 4.7e-4])\n",
    "ax.set_ylim([-1, 1.5])\n",
    "plt.show()"
   ]
  },
  {
   "cell_type": "code",
   "execution_count": 10,
   "id": "4ec8896c",
   "metadata": {},
   "outputs": [
    {
     "name": "stdout",
     "output_type": "stream",
     "text": [
      "10\n"
     ]
    }
   ],
   "source": [
    "def printSystems(s) -> None:\n",
    "    for i in s:\n",
    "        print(\"\\n================================================================================================\")\n",
    "        print(\"title:\\t\", i[0])\n",
    "        print(\"\\nfreq:\\t\", i[1])\n",
    "        print(\"\\nphis:\\t\", i[2])\n",
    "        print(\"\\nw/o bins:\")\n",
    "        for j in i[3][0]:\n",
    "            print(\"\\t\", j)\n",
    "        print(\"\\nw/ bins:\")\n",
    "        for j in i[3][1]:\n",
    "            print(\"\\t\", j)\n",
    "        print(\"\\nsystem freq. cutoff:\")\n",
    "        print(\"\\t\", i[4][0])\n",
    "        print(\"\\nSNR values at cutoff:\")\n",
    "        print(\"\\t\", i[4][1])\n",
    "        print(\"------------------------------------------------------------------------------------------------\\n\")\n",
    "    return None"
   ]
  },
  {
   "cell_type": "code",
   "execution_count": 1,
   "id": "d2c4e329-12c4-451d-9276-0cd2aff9528e",
   "metadata": {},
   "outputs": [],
   "source": [
    "from analysis import System\n",
    "import numpy as np\n",
    "names = [(\"sagnac\", \"Sagnac\", 1e6), (\"microphone\", \"Sagnac\", 2e5), (\"split beam\", \"SplitBeam\", 1e6), (\"telescope\", \"Telescope\", 1e6)]\n",
    "phis = [\"phi\" + str(int(np.append(82, np.linspace(145, 160, 16))[i])) + \".tdms\" for i in range(len(np.append(82, np.linspace(145, 160, 16))))]\n",
    "systems = np.array([])\n",
    "for n in names:\n",
    "    systems = np.append(systems, System(n[0], [\"../data/20230801/\" + n[1] + \"/iter_0.tdms\"] + [\"../data/20230801/\" + n[1] + \"/MinDetect/\" + i for i in phis], SNR_freq_cut = n[2], phis = [int(p[3:-5]) for p in phis],  SNR_freq_range = [10000, n[2]]))\n",
    "for s in systems:\n",
    "    s.calc_SNR_vs_freq()\n",
    "# sagnac = System(names[0][0], [\"../data/20230801/\" + names[0][1] + \"/iter_0.tdms\"] + [\"../data/20230801/\" + names[0][1] + \"/MinDetect/\" + i for i in phis], SNR_freq_cut = names[0][2], phis = [int(p[3:-5]) for p in phis],  SNR_freq_range = [10000, names[0][2]])"
   ]
  },
  {
   "cell_type": "code",
   "execution_count": null,
   "id": "8ee5f721-4601-4737-9515-7360150b66b7",
   "metadata": {},
   "outputs": [],
   "source": []
  }
 ],
 "metadata": {
  "kernelspec": {
   "display_name": "Python 3 (ipykernel)",
   "language": "python",
   "name": "python3"
  },
  "language_info": {
   "codemirror_mode": {
    "name": "ipython",
    "version": 3
   },
   "file_extension": ".py",
   "mimetype": "text/x-python",
   "name": "python",
   "nbconvert_exporter": "python",
   "pygments_lexer": "ipython3",
   "version": "3.11.2"
  }
 },
 "nbformat": 4,
 "nbformat_minor": 5
}
