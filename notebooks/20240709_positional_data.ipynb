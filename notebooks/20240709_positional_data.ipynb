{
 "cells": [
  {
   "cell_type": "code",
   "execution_count": 2,
   "id": "76e3612c-98db-412d-b2f6-5bba7a8baf9e",
   "metadata": {},
   "outputs": [],
   "source": [
    "import sys\n",
    "sys.path.append(\"../\")\n",
    "from analysis import System as syst\n",
    "import matplotlib.pyplot as plt\n",
    "import numpy as np"
   ]
  },
  {
   "cell_type": "code",
   "execution_count": 3,
   "id": "81ebd59d-eaba-48e6-a8aa-1e2876c22c43",
   "metadata": {},
   "outputs": [],
   "source": [
    "s = syst(\"sagnac\", [\"../../data/20240708/cage-pos\" + str(x + 1) + \"/iter_0.tdms\" for x in range(12)], channel = \"Y\")"
   ]
  },
  {
   "cell_type": "code",
   "execution_count": null,
   "id": "5d79de6f-3e91-4ad1-b1a2-2740e00973ec",
   "metadata": {},
   "outputs": [],
   "source": [
    "s.set_data(ind = 0)\n",
    "s.set_data(ind = 1)\n",
    "s.set_data(ind = 2)\n",
    "s.set_data(ind = 3)\n",
    "s.set_data(ind = 4)\n",
    "s.set_data(ind = 5)\n",
    "s.set_data(ind = 6)\n",
    "s.set_data(ind = 7)\n",
    "s.set_data(ind = 8)\n",
    "s.set_data(ind = 9)\n",
    "s.set_data(ind = 10)\n",
    "s.set_data(ind = 11)"
   ]
  },
  {
   "cell_type": "code",
   "execution_count": null,
   "id": "f3e25290-48cd-4ffd-b1ff-385881ffb722",
   "metadata": {},
   "outputs": [],
   "source": []
  }
 ],
 "metadata": {
  "kernelspec": {
   "display_name": "Python 3 (ipykernel)",
   "language": "python",
   "name": "python3"
  },
  "language_info": {
   "codemirror_mode": {
    "name": "ipython",
    "version": 3
   },
   "file_extension": ".py",
   "mimetype": "text/x-python",
   "name": "python",
   "nbconvert_exporter": "python",
   "pygments_lexer": "ipython3",
   "version": "3.10.12"
  }
 },
 "nbformat": 4,
 "nbformat_minor": 5
}
