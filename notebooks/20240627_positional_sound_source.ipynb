{
 "cells": [
  {
   "cell_type": "markdown",
   "id": "e75f7c31-fc44-4fce-8bd1-cb1cad25a00a",
   "metadata": {},
   "source": [
    "# Positional Sound Source Data\n",
    "\n",
    "In this data set, we test the effect of changing the position of the sound source in the Sagnac. We move the source between four points---one on each arm. The sound source is then excited in the same way as before to ablation at 12J with a pulsed phase of 82$^{\\circ}$ (this energy can be estimated from previous analysis. Let's take a look at this data."
   ]
  },
  {
   "cell_type": "code",
   "execution_count": 1,
   "id": "e5938c4a-d02d-4879-8efa-6551aa616526",
   "metadata": {},
   "outputs": [],
   "source": [
    "import sys\n",
    "sys.path.append(\"../\")\n",
    "from analysis import System as syst\n",
    "import matplotlib.pyplot as plt\n",
    "import numpy as np "
   ]
  },
  {
   "cell_type": "code",
   "execution_count": null,
   "id": "640328a6-91f1-4791-bc0b-eac637727a5b",
   "metadata": {},
   "outputs": [],
   "source": [
    "s = syst(\"sagnac\", [\"../../data/20240626/cage_sagnac_\" + x + \"/iter_0.tdms\" for x in [\"transmitted_arm1\", \"transmitted_arm2\", \"reflected_arm1\", \"reflected_arm2\"]], channel = \"Y\")\n",
    "m = syst(\"sagnac\", [\"../../data/20240626/cage_sagnac_\" + x + \"/iter_0.tdms\" for x in [\"transmitted_arm1\", \"transmitted_arm2\", \"reflected_arm1\", \"reflected_arm2\"]], channel = \"X\")"
   ]
  },
  {
   "cell_type": "code",
   "execution_count": null,
   "id": "7fc46c67-c430-43e2-9d94-b3b8c504c71d",
   "metadata": {},
   "outputs": [],
   "source": []
  }
 ],
 "metadata": {
  "kernelspec": {
   "display_name": "Python 3 (ipykernel)",
   "language": "python",
   "name": "python3"
  },
  "language_info": {
   "codemirror_mode": {
    "name": "ipython",
    "version": 3
   },
   "file_extension": ".py",
   "mimetype": "text/x-python",
   "name": "python",
   "nbconvert_exporter": "python",
   "pygments_lexer": "ipython3",
   "version": "3.10.12"
  }
 },
 "nbformat": 4,
 "nbformat_minor": 5
}
