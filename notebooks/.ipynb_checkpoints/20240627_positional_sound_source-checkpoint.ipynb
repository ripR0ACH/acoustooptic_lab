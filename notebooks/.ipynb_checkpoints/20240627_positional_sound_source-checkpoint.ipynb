{
 "cells": [
  {
   "cell_type": "markdown",
   "id": "e75f7c31-fc44-4fce-8bd1-cb1cad25a00a",
   "metadata": {},
   "source": [
    "# Positional Sound Source Data\n",
    "\n",
    "In this data set, we test the effect of changing the position of the sound source in the Sagnac. We move the source between four points---one on each arm. The sound source is then excited in the same way as before to ablation at 12J with a pulsed phase of 82$^{\\circ}$ (this energy can be estimated from previous analysis. Let's take a look at this data."
   ]
  },
  {
   "cell_type": "code",
   "execution_count": 1,
   "id": "e5938c4a-d02d-4879-8efa-6551aa616526",
   "metadata": {},
   "outputs": [],
   "source": [
    "import sys\n",
    "sys.path.append(\"../\")\n",
    "from analysis import System as syst\n",
    "import matplotlib.pyplot as plt\n",
    "import numpy as np "
   ]
  },
  {
   "cell_type": "code",
   "execution_count": null,
   "id": "640328a6-91f1-4791-bc0b-eac637727a5b",
   "metadata": {},
   "outputs": [],
   "source": [
    "s = syst(\"sagnac\", [\"../../data/20240626/cage_sagnac_\" + x + \"/iter_0.tdms\" for x in [\"transmitted_arm1\", \"transmitted_arm2\", \"reflected_arm1\", \"reflected_arm2\"]], channel = \"Y\")\n",
    "m = syst(\"sagnac\", [\"../../data/20240626/cage_sagnac_\" + x + \"/iter_0.tdms\" for x in [\"transmitted_arm1\", \"transmitted_arm2\", \"reflected_arm1\", \"reflected_arm2\"]], channel = \"X\")"
   ]
  },
  {
   "cell_type": "code",
   "execution_count": null,
   "id": "7fc46c67-c430-43e2-9d94-b3b8c504c71d",
   "metadata": {},
   "outputs": [],
   "source": [
    "ind = 1\n",
    "c = 1\n",
    "s.set_data(ind = ind)\n",
    "s.reset_snr_vs_freq()\n",
    "m.set_data(ind = ind)\n",
    "m.reset_snr_vs_freq()\n",
    "\n",
    "s.get_data()[ind].apply(\"calibrate\", cal = -1, inplace = True)\n",
    "s.get_data()[ind].apply(\"detrend\", mode = \"constant\", inplace = True)\n",
    "# s.get_data()[ind].apply(\"lowpass\", cutoff = 20000, inplace = True)\n",
    "# s.get_data()[ind].apply(\"bin_average\", Npts = int(s.get_data()[ind].r / (2 * 20000)), inplace = True)\n",
    "plt.plot(s.get_data()[ind].collection[c].t, s.get_data()[ind].collection[c].x)\n",
    "plt.xlim([0.00025, 0.00035])\n",
    "plt.show()\n",
    "signal = [(0.0003, 0.0004), (0.0002, 0.0003), (0.00025, 0.00035)]\n",
    "noise = [(0, 0.0003), (0, 0.0002), (0, 0.00025)]\n",
    "\n",
    "for ind in range(1, len(s.get_data())):\n",
    "    s.set_data(ind = ind)\n",
    "    s.get_data()[ind].apply(\"calibrate\", cal = -1, inplace = True)\n",
    "    s.get_data()[ind].apply(\"detrend\", mode = \"constant\", inplace = True)\n",
    "    s.set_snr_vs_freq(s.calc_snr_vs_freq(j = ind, signal = signal[ind - 1], noise = noise[ind - 1], bins = True), ind)\n",
    "    freq = np.linspace(s.get_snr_freq_range()[0], s.get_snr_freq_range()[1], s.get_snr_resolution())\n",
    "    plt.plot(freq, s.get_snr_vs_freq()[ind])\n",
    "    plt.show()\n",
    "\n",
    "# # m.get_data()[ind].apply(\"bin_average\", Npts = int(m.get_data()[0].r / (2 * 1e6)), inplace = True)\n",
    "# t, x = mic_correct(m.get_data()[ind].collection[c])\n",
    "# plt.xlim([0.00035, 0.00045])\n",
    "# plt.plot(t, x)\n",
    "# plt.show()\n",
    "\n",
    "\n",
    "# freq, sig = m.get_data()[ind].average(\"PSD\")\n",
    "# plt.loglog(freq, sig)\n",
    "# freq, sig = s.get_data()[ind].average(\"PSD\")\n",
    "# plt.loglog(freq, sig)\n",
    "# plt.show()"
   ]
  }
 ],
 "metadata": {
  "kernelspec": {
   "display_name": "Python 3 (ipykernel)",
   "language": "python",
   "name": "python3"
  },
  "language_info": {
   "codemirror_mode": {
    "name": "ipython",
    "version": 3
   },
   "file_extension": ".py",
   "mimetype": "text/x-python",
   "name": "python",
   "nbconvert_exporter": "python",
   "pygments_lexer": "ipython3",
   "version": "3.10.12"
  }
 },
 "nbformat": 4,
 "nbformat_minor": 5
}
