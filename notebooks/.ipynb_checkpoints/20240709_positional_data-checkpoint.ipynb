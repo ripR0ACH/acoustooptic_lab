{
 "cells": [
  {
   "cell_type": "code",
   "execution_count": 1,
   "id": "76e3612c-98db-412d-b2f6-5bba7a8baf9e",
   "metadata": {},
   "outputs": [],
   "source": [
    "import sys\n",
    "sys.path.append(\"../\")\n",
    "from analysis import System as syst\n",
    "import matplotlib.pyplot as plt\n",
    "import numpy as np"
   ]
  },
  {
   "cell_type": "code",
   "execution_count": 3,
   "id": "81ebd59d-eaba-48e6-a8aa-1e2876c22c43",
   "metadata": {},
   "outputs": [],
   "source": [
    "s = syst(\"sagnac\", channel = \"Y\")"
   ]
  },
  {
   "cell_type": "code",
   "execution_count": null,
   "id": "5d79de6f-3e91-4ad1-b1a2-2740e00973ec",
   "metadata": {},
   "outputs": [],
   "source": []
  }
 ],
 "metadata": {
  "kernelspec": {
   "display_name": "Python 3 (ipykernel)",
   "language": "python",
   "name": "python3"
  },
  "language_info": {
   "codemirror_mode": {
    "name": "ipython",
    "version": 3
   },
   "file_extension": ".py",
   "mimetype": "text/x-python",
   "name": "python",
   "nbconvert_exporter": "python",
   "pygments_lexer": "ipython3",
   "version": "3.10.12"
  }
 },
 "nbformat": 4,
 "nbformat_minor": 5
}
