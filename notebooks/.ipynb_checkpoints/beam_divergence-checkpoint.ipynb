{
 "cells": [
  {
   "cell_type": "markdown",
   "id": "4a9438b1-19b6-4857-b8d5-6f7375318864",
   "metadata": {},
   "source": [
    "## Beam divergence calculations\n",
    "##### This code is used to estimate the beam's divergence at a set waist with a given distance of travel. I'll use this code to estimate whether or not my beam is well collimated."
   ]
  },
  {
   "cell_type": "code",
   "execution_count": 23,
   "id": "bf2eeb09-fc17-4404-bc70-0ba9fd0b4d70",
   "metadata": {},
   "outputs": [
    {
     "name": "stdout",
     "output_type": "stream",
     "text": [
      "0.00026052439915350256\n",
      "1.430 mm\n",
      "2.081 mm\n"
     ]
    }
   ],
   "source": [
    "import numpy as np\n",
    "lmda = 1064e-9\n",
    "waist = 1.3e-3\n",
    "theta = lmda / np.pi / waist \n",
    "print(theta)\n",
    "print(f\"{(2 * .25 * np.tan(theta) + 1.3e-3) * 1e3:.3f} mm\")\n",
    "print(f\"{(2 * (4.25/3) * np.tan(theta) + 1.43e-3) * 1e3:.3f} mm\")"
   ]
  },
  {
   "cell_type": "code",
   "execution_count": null,
   "id": "cb4b47c1-6c64-496a-85ee-2c0319ba269d",
   "metadata": {},
   "outputs": [],
   "source": []
  }
 ],
 "metadata": {
  "kernelspec": {
   "display_name": "Python 3 (ipykernel)",
   "language": "python",
   "name": "python3"
  },
  "language_info": {
   "codemirror_mode": {
    "name": "ipython",
    "version": 3
   },
   "file_extension": ".py",
   "mimetype": "text/x-python",
   "name": "python",
   "nbconvert_exporter": "python",
   "pygments_lexer": "ipython3",
   "version": "3.12.3"
  }
 },
 "nbformat": 4,
 "nbformat_minor": 5
}
