{
 "cells": [
  {
   "cell_type": "code",
   "execution_count": 1,
   "metadata": {},
   "outputs": [
    {
     "name": "stdout",
     "output_type": "stream",
     "text": [
      "['1' '1' '1' '1' '1' '1' '1'] ['3' '4' '5' '6' '7' '8' '9']\n",
      "['1' '1' '1' '1' '1' '1' '1'] ['3' '4' '5' '6' '7' '8' '9']\n"
     ]
    }
   ],
   "source": [
    "data = [\"data/20230620/energy_phi91.csv\", \"data/20230620/energy_window_phi91.csv\", \"data/20230620/phi_scan_16J.csv\", \"data/20230620/phi_scan_18J.csv\"]\n",
    "\n",
    "import matplotlib.pyplot as plt\n",
    "import numpy as np\n",
    "\n",
    "for d in data[:2]:\n",
    "    E_in = np.array([])\n",
    "    E_out = np.array([])\n",
    "    with open(d, \"r\") as dat:\n",
    "        lines = dat.readlines()\n",
    "        for row in lines[1:]:\n",
    "            E_in = np.append(E_in, row[0])\n",
    "            E_out = np.append(E_out, row[1])\n",
    "    print(E_in, E_out)\n",
    "    plt.show()"
   ]
  }
 ],
 "metadata": {
  "kernelspec": {
   "display_name": "Python 3 (ipykernel)",
   "language": "python",
   "name": "python3"
  },
  "language_info": {
   "codemirror_mode": {
    "name": "ipython",
    "version": 3
   },
   "file_extension": ".py",
   "mimetype": "text/x-python",
   "name": "python",
   "nbconvert_exporter": "python",
   "pygments_lexer": "ipython3",
   "version": "3.10.12"
  }
 },
 "nbformat": 4,
 "nbformat_minor": 4
}
