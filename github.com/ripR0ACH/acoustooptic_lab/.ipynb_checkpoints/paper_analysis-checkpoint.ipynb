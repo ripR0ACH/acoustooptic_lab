{
 "cells": [
  {
   "cell_type": "code",
   "execution_count": 1,
   "id": "0e8deee8-08f1-482b-b49e-4cc12f4b79c2",
   "metadata": {},
   "outputs": [
    {
     "ename": "ModuleNotFoundError",
     "evalue": "No module named 'matplotlib'",
     "output_type": "error",
     "traceback": [
      "\u001b[0;31m---------------------------------------------------------------------------\u001b[0m",
      "\u001b[0;31mModuleNotFoundError\u001b[0m                       Traceback (most recent call last)",
      "Cell \u001b[0;32mIn[1], line 1\u001b[0m\n\u001b[0;32m----> 1\u001b[0m \u001b[38;5;28;01mfrom\u001b[39;00m \u001b[38;5;21;01manalysis\u001b[39;00m \u001b[38;5;28;01mimport\u001b[39;00m System\n\u001b[1;32m      2\u001b[0m \u001b[38;5;28;01mfrom\u001b[39;00m \u001b[38;5;21;01manalysis\u001b[39;00m \u001b[38;5;28;01mimport\u001b[39;00m graph_systems\n\u001b[1;32m      3\u001b[0m \u001b[38;5;28;01mimport\u001b[39;00m \u001b[38;5;21;01mnumpy\u001b[39;00m \u001b[38;5;28;01mas\u001b[39;00m \u001b[38;5;21;01mnp\u001b[39;00m\n",
      "File \u001b[0;32m~/github.com/ripR0ACH/acoustooptic_lab/analysis.py:1\u001b[0m\n\u001b[0;32m----> 1\u001b[0m \u001b[38;5;28;01mimport\u001b[39;00m \u001b[38;5;21;01mmatplotlib\u001b[39;00m\u001b[38;5;21;01m.\u001b[39;00m\u001b[38;5;21;01mpyplot\u001b[39;00m \u001b[38;5;28;01mas\u001b[39;00m \u001b[38;5;21;01mplt\u001b[39;00m\n\u001b[1;32m      2\u001b[0m \u001b[38;5;28;01mimport\u001b[39;00m \u001b[38;5;21;01mnumpy\u001b[39;00m \u001b[38;5;28;01mas\u001b[39;00m \u001b[38;5;21;01mnp\u001b[39;00m\n\u001b[1;32m      3\u001b[0m \u001b[38;5;28;01mfrom\u001b[39;00m \u001b[38;5;21;01mscipy\u001b[39;00m\u001b[38;5;21;01m.\u001b[39;00m\u001b[38;5;21;01mspecial\u001b[39;00m \u001b[38;5;28;01mimport\u001b[39;00m erfinv\n",
      "\u001b[0;31mModuleNotFoundError\u001b[0m: No module named 'matplotlib'"
     ]
    }
   ],
   "source": [
    "from analysis import System\n",
    "from analysis import graph_systems\n",
    "import numpy as np\n",
    "\n",
    "\n",
    "cutoff = 2.5e6\n",
    "names = [(\"sagnac\", \"Sagnac\"), (\"microphone\", \"Sagnac\"), (\"split beam\", \"SplitBeam\"), (\"telescope\", \"Telescope\")]\n",
    "phis = [\"phi\" + str(int(np.append(82, np.linspace(145, 160, 16))[i])) + \".tdms\" for i in range(len(np.append(82, np.linspace(145, 160, 16))))]\n",
    "systems = np.array([])\n",
    "for n in names:\n",
    "    systems = np.append(systems, System(n[0], [\"../data/20230801/\" + n[1] + \"/iter_0.tdms\"] + [\"../data/20230801/\" + n[1] + \"/MinDetect/\" + i for i in phis], SNR_freq_cut = cutoff, phis = [int(p[3:-5]) for p in phis],  SNR_freq_range = [10000, cutoff], SNR_resolution = 100))"
   ]
  },
  {
   "cell_type": "code",
   "execution_count": 2,
   "id": "0cae60f3",
   "metadata": {},
   "outputs": [
    {
     "ename": "NameError",
     "evalue": "name 'systems' is not defined",
     "output_type": "error",
     "traceback": [
      "\u001b[0;31m---------------------------------------------------------------------------\u001b[0m",
      "\u001b[0;31mNameError\u001b[0m                                 Traceback (most recent call last)",
      "Cell \u001b[0;32mIn[2], line 1\u001b[0m\n\u001b[0;32m----> 1\u001b[0m \u001b[38;5;28;01mfor\u001b[39;00m s \u001b[38;5;129;01min\u001b[39;00m \u001b[43msystems\u001b[49m:\n\u001b[1;32m      2\u001b[0m     s\u001b[38;5;241m.\u001b[39mcalc_SNR_vs_freq()\n",
      "\u001b[0;31mNameError\u001b[0m: name 'systems' is not defined"
     ]
    }
   ],
   "source": [
    "for s in systems:\n",
    "    s.calc_SNR_vs_freq()"
   ]
  },
  {
   "cell_type": "code",
   "execution_count": 3,
   "id": "3550d760-ad43-4fff-ba88-1523f90ead1d",
   "metadata": {},
   "outputs": [
    {
     "ename": "NameError",
     "evalue": "name 'graph_systems' is not defined",
     "output_type": "error",
     "traceback": [
      "\u001b[0;31m---------------------------------------------------------------------------\u001b[0m",
      "\u001b[0;31mNameError\u001b[0m                                 Traceback (most recent call last)",
      "Cell \u001b[0;32mIn[3], line 1\u001b[0m\n\u001b[0;32m----> 1\u001b[0m \u001b[43mgraph_systems\u001b[49m(systems, \u001b[38;5;124m\"\u001b[39m\u001b[38;5;124mlowpass and bins: setups vs frequency with phi scan, resolution 100.png\u001b[39m\u001b[38;5;124m\"\u001b[39m, \u001b[38;5;28;01mTrue\u001b[39;00m)\n",
      "\u001b[0;31mNameError\u001b[0m: name 'graph_systems' is not defined"
     ]
    }
   ],
   "source": [
    "graph_systems(systems, \"lowpass and bins: setups vs frequency with phi scan, resolution 100.png\", True)"
   ]
  },
  {
   "cell_type": "code",
   "execution_count": null,
   "id": "45893cbc-0c74-4ba1-9542-3921b1227e67",
   "metadata": {},
   "outputs": [],
   "source": []
  }
 ],
 "metadata": {
  "kernelspec": {
   "display_name": "Python 3 (ipykernel)",
   "language": "python",
   "name": "python3"
  },
  "language_info": {
   "codemirror_mode": {
    "name": "ipython",
    "version": 3
   },
   "file_extension": ".py",
   "mimetype": "text/x-python",
   "name": "python",
   "nbconvert_exporter": "python",
   "pygments_lexer": "ipython3",
   "version": "3.10.12"
  }
 },
 "nbformat": 4,
 "nbformat_minor": 5
}
